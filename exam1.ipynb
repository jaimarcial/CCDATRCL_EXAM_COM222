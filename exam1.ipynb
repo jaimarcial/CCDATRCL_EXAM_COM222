{
  "cells": [
    {
      "cell_type": "markdown",
      "metadata": {
        "id": "view-in-github",
        "colab_type": "text"
      },
      "source": [
        "<a href=\"https://colab.research.google.com/github/jaimarcial/CCDATRCL_EXAM_COM222/blob/main/exam1.ipynb\" target=\"_parent\"><img src=\"https://colab.research.google.com/assets/colab-badge.svg\" alt=\"Open In Colab\"/></a>"
      ]
    },
    {
      "cell_type": "markdown",
      "metadata": {
        "id": "yaz2B0KGFehP"
      },
      "source": [
        "# Midterm Exam 💛💙"
      ]
    },
    {
      "cell_type": "markdown",
      "metadata": {
        "id": "_DmK1ONEFehQ"
      },
      "source": [
        "**Instructions** ❗️❗️\n",
        "\n",
        "❌ Do not remove or modify the notebook **sections**, **subsections**, **exam questions** or **any text** in this python notebook\n",
        "\n",
        "✔️ Put your answer in the designated cells below each question"
      ]
    },
    {
      "cell_type": "markdown",
      "metadata": {
        "id": "TMCAXKWCFehR"
      },
      "source": [
        "## Search"
      ]
    },
    {
      "cell_type": "code",
      "execution_count": 1,
      "metadata": {
        "id": "Fy8nEBRRFehR"
      },
      "outputs": [],
      "source": [
        "def linearSearch(my_list, number):\n",
        "\n",
        "    index = 0\n",
        "\n",
        "    for i in my_list:\n",
        "\n",
        "        if my_list[index] == number:\n",
        "            return index\n",
        "\n",
        "        index = index + 1\n",
        "\n",
        "    return -1"
      ]
    },
    {
      "cell_type": "markdown",
      "metadata": {
        "id": "AjAevpueFehS"
      },
      "source": [
        "1. Using **linear search**, write a `findLargestIncrease()` function to find the largest increase in value between two adjacent numbers in your student number `(10 points)`\n",
        "\n",
        "    **Example:**\n",
        "\n",
        "    student_number = [2,0,2,2,6,2,5,1,9,3]\n",
        "\n",
        "    **Expected Output:**\n",
        "\n",
        "    findLargestIncrease(student_number)\n",
        "\n",
        "    Output: Between 1 and 9\n",
        "\n",
        "    **Explanation:**\n",
        "\n",
        "    From this student_number, the largest increase happened from number 1 to number 9"
      ]
    },
    {
      "cell_type": "code",
      "execution_count": 2,
      "metadata": {
        "id": "JE8nEfyJFehS",
        "colab": {
          "base_uri": "https://localhost:8080/"
        },
        "outputId": "c3ef024a-5fd6-4981-8e43-247642140a16"
      },
      "outputs": [
        {
          "output_type": "stream",
          "name": "stdout",
          "text": [
            "Between  0  and 7\n"
          ]
        }
      ],
      "source": [
        "student_number = [2, 0, 2, 2, 1, 0, 7, 1, 2, 1]\n",
        "def findLargestIncrease(student_number):\n",
        "    largest_start = 0\n",
        "    largest_end = 0\n",
        "    maximum = 0\n",
        "\n",
        "    for i in range(len(student_number) - 1):\n",
        "        if student_number[i + 1] - student_number[i] > maximum:\n",
        "            maximum = student_number[i + 1] - student_number[i]\n",
        "            largest_start = student_number[i]\n",
        "            largest_end = student_number[i + 1]\n",
        "\n",
        "\n",
        "    if maximum > 0:\n",
        "        print(\"Between \", largest_start, \" and\", largest_end)\n",
        "    else:\n",
        "        return(\"no increase\")\n",
        "\n",
        "\n",
        "\n",
        "largest = findLargestIncrease(student_number)"
      ]
    },
    {
      "cell_type": "markdown",
      "metadata": {
        "id": "nMyr1fNyFehS"
      },
      "source": [
        "2. Using **linear search**, write a `findLargestDecrease()` function to find the largest decrease in value between two adjacent numbers in your student number `(10 points)`\n",
        "\n",
        "    **Example:**\n",
        "\n",
        "    student_number = [2,0,2,2,6,2,5,1,9,3]\n",
        "\n",
        "    **Expected Output:**\n",
        "\n",
        "    findLargestDecrease(student_number)\n",
        "\n",
        "    Output: Between 9 and 3\n",
        "\n",
        "    **Explanation:**\n",
        "\n",
        "    From this student_number, the largest decrease happened from number 9 to number 3"
      ]
    },
    {
      "cell_type": "code",
      "execution_count": 3,
      "metadata": {
        "id": "bfMfQVbVFehS",
        "colab": {
          "base_uri": "https://localhost:8080/"
        },
        "outputId": "105f7be4-0790-4821-ba17-645e82cb3ccd"
      },
      "outputs": [
        {
          "output_type": "stream",
          "name": "stdout",
          "text": [
            "Between  7  and 1\n"
          ]
        }
      ],
      "source": [
        "def findLargestDecrease(student_number):\n",
        "    largest_start = 0\n",
        "    largest_end = 0\n",
        "    maximum = 0\n",
        "\n",
        "    for i in range(len(student_number) - 1):\n",
        "        if student_number[i] - student_number[i+1] > maximum:\n",
        "            maximum = student_number[i] - student_number[i+1]\n",
        "            largest_start = student_number[i]\n",
        "            largest_end = student_number[i + 1]\n",
        "\n",
        "    if maximum > 0:\n",
        "        print(\"Between \", largest_start, \" and\", largest_end)\n",
        "    else:\n",
        "        print(\"no decrease\")\n",
        "\n",
        "largest = findLargestDecrease(student_number)"
      ]
    },
    {
      "cell_type": "markdown",
      "metadata": {
        "id": "NtKSQn9QFehS"
      },
      "source": [
        "## Linked List"
      ]
    },
    {
      "cell_type": "code",
      "execution_count": 4,
      "metadata": {
        "id": "0HP5zyJcFehS"
      },
      "outputs": [],
      "source": [
        "class Node:\n",
        "\n",
        "    def __init__(self, data):\n",
        "        self.data = data\n",
        "        self.next = None  # null"
      ]
    },
    {
      "cell_type": "code",
      "execution_count": 5,
      "metadata": {
        "id": "A-8Uefe7FehS"
      },
      "outputs": [],
      "source": [
        "class LinkedList:\n",
        "\n",
        "    def __init__(self):\n",
        "        self.head = None\n",
        "\n",
        "    def traverse(self, node):\n",
        "        while node:\n",
        "            print(node.data, end=\" -> \")\n",
        "            node = node.next"
      ]
    },
    {
      "cell_type": "markdown",
      "metadata": {
        "id": "uPgIJJuSFehT"
      },
      "source": [
        "**Instructions** ❗️❗️\n",
        "\n",
        "Use the pre-defined linked list class/functions to create a linked list"
      ]
    },
    {
      "cell_type": "markdown",
      "metadata": {
        "id": "WIwpW7Q2FehT"
      },
      "source": [
        "1. Create a Singly linked list named **num_list** and print all of its elements. `(5 points)`\n",
        "\n",
        "- **num_list** should contain all digits of your student number.\n",
        "\n",
        "    **Expected Output:**\n",
        "\n",
        "    print(num_list)\n",
        "\n",
        "    [2, 0, 2, 2, 1, 2, 3, 4, 5, 6]"
      ]
    },
    {
      "cell_type": "code",
      "execution_count": 6,
      "metadata": {
        "id": "Lihv0JPiFehT",
        "colab": {
          "base_uri": "https://localhost:8080/"
        },
        "outputId": "ca01da26-f263-46ff-e8bf-959374f6ed17"
      },
      "outputs": [
        {
          "output_type": "stream",
          "name": "stdout",
          "text": [
            "2 -> 0 -> 2 -> 2 -> 1 -> 0 -> 7 -> 1 -> 2 -> 1 -> "
          ]
        }
      ],
      "source": [
        "num_list = LinkedList()\n",
        "\n",
        "num_list.head = Node(2)\n",
        "node_b = Node(0)\n",
        "node_c = Node(2)\n",
        "node_d = Node(2)\n",
        "node_e = Node(1)\n",
        "node_f = Node(0)\n",
        "node_g = Node(7)\n",
        "node_h = Node(1)\n",
        "node_i = Node(2)\n",
        "node_j = Node(1)\n",
        "\n",
        "num_list.head.next = node_b\n",
        "node_b.next = node_c\n",
        "node_c.next = node_d\n",
        "node_d.next = node_e\n",
        "node_e.next = node_f\n",
        "node_f.next = node_g\n",
        "node_g.next = node_h\n",
        "node_h.next = node_i\n",
        "node_i.next = node_j\n",
        "node_j.next = None\n",
        "\n",
        "num_list.traverse(num_list.head)"
      ]
    },
    {
      "cell_type": "markdown",
      "metadata": {
        "id": "dqA2UYrYFehT"
      },
      "source": [
        "2. Write a `hasPrime()` function to test whether a prime number is in the last six digits of **num_list**. `(5 points)`\n",
        "\n",
        "- If a prime number is in the last six digits of **num_list**, the method should return **true**\n",
        "\n",
        "- If a prime number is not in the last six digits of **num_list**, the method should return **false**\n",
        "\n",
        "    **Expected Output:**\n",
        "\n",
        "    hasPrime(num_list)\n",
        "\n",
        "    True"
      ]
    },
    {
      "cell_type": "code",
      "execution_count": 7,
      "metadata": {
        "id": "GYwsQNz5FehT",
        "colab": {
          "base_uri": "https://localhost:8080/"
        },
        "outputId": "120943bb-e3bf-4100-d4b8-7e373ca8fb9f"
      },
      "outputs": [
        {
          "output_type": "stream",
          "name": "stdout",
          "text": [
            "True\n"
          ]
        }
      ],
      "source": [
        "def hasPrime(self):\n",
        "        current = self.head\n",
        "\n",
        "        length = 0\n",
        "        while current:\n",
        "            length += 1\n",
        "            current = current.next\n",
        "\n",
        "        current = self.head\n",
        "\n",
        "        for _ in range(max(0, length - 6)):\n",
        "            current = current.next\n",
        "\n",
        "        while current:\n",
        "            if is_prime(current.data):\n",
        "                return True\n",
        "            current = current.next\n",
        "\n",
        "        return False\n",
        "\n",
        "def is_prime(number):\n",
        "    if number <= 1:\n",
        "        return False\n",
        "    return all(number % i != 0 for i in range(2, int(number ** 0.5) + 1))\n",
        "\n",
        "\n",
        "result = hasPrime(num_list)\n",
        "print(result)"
      ]
    },
    {
      "cell_type": "markdown",
      "metadata": {
        "id": "5Qb0BOiwFehT"
      },
      "source": [
        "3. Write a `removeZeroes()` function to remove all occurrences of zeroes in **num_list**. `(5 points)`\n",
        "\n",
        "- If a zero is in **num_list**, return **num_list**\n",
        "\n",
        "- If there are no zeroes in **num_list**, return **\"no zeros found\"**\n",
        "\n",
        "    **Expected Output:**\n",
        "\n",
        "    removeZeroes(num_list)\n",
        "\n",
        "    [2, 2, 1, 2, 3, 4, 5, 6]"
      ]
    },
    {
      "cell_type": "code",
      "execution_count": 8,
      "metadata": {
        "id": "k1vAHUYuFehT",
        "colab": {
          "base_uri": "https://localhost:8080/"
        },
        "outputId": "56b2430e-4c77-4d92-919d-d4b2f932ecd2"
      },
      "outputs": [
        {
          "output_type": "stream",
          "name": "stdout",
          "text": [
            "2 -> 2 -> 2 -> 1 -> 7 -> 1 -> 2 -> 1 -> None\n"
          ]
        }
      ],
      "source": [
        "num_list = LinkedList()\n",
        "\n",
        "num_list.head = Node(2)\n",
        "node_b = Node(0)\n",
        "node_c = Node(2)\n",
        "node_d = Node(2)\n",
        "node_e = Node(1)\n",
        "node_f = Node(0)\n",
        "node_g = Node(7)\n",
        "node_h = Node(1)\n",
        "node_i = Node(2)\n",
        "node_j = Node(1)\n",
        "\n",
        "num_list.head.next = node_b\n",
        "node_b.next = node_c\n",
        "node_c.next = node_d\n",
        "node_d.next = node_e\n",
        "node_e.next = node_f\n",
        "node_f.next = node_g\n",
        "node_g.next = node_h\n",
        "node_h.next = node_i\n",
        "node_i.next = node_j\n",
        "node_j.next = None\n",
        "\n",
        "def removeZeroes(self):\n",
        "        current = self.head\n",
        "        prev = None\n",
        "        while current:\n",
        "            if current.data == 0:\n",
        "                if prev:\n",
        "                    prev.next = current.next\n",
        "                else:\n",
        "                    self.head = current.next\n",
        "            else:\n",
        "                prev = current\n",
        "            current = current.next\n",
        "\n",
        "        if prev is None:\n",
        "            print(\"no zeros found\")\n",
        "\n",
        "removeZeroes(num_list)\n",
        "print(num_list.traverse(num_list.head))"
      ]
    },
    {
      "cell_type": "markdown",
      "metadata": {
        "id": "SKAlpglNFehT"
      },
      "source": [
        "4. Insert a dash symbol between the 4th and 5th digit in **num_list**. `(5 points)`\n",
        "\n",
        "    **Expected Output:**\n",
        "\n",
        "    print(num_list)\n",
        "\n",
        "    [2, 0, 2, 2, \"-\", 1, 2, 3, 4, 5, 6]"
      ]
    },
    {
      "cell_type": "code",
      "execution_count": 9,
      "metadata": {
        "id": "vF7fimZ-FehT",
        "colab": {
          "base_uri": "https://localhost:8080/"
        },
        "outputId": "69beac7e-0cd9-4c56-c49a-2c3849df2118"
      },
      "outputs": [
        {
          "output_type": "stream",
          "name": "stdout",
          "text": [
            "2 -> 2 -> 2 -> - -> 1 -> 7 -> 1 -> 2 -> 1 -> "
          ]
        }
      ],
      "source": [
        "def insertDash(link, index1, index2, new_data):\n",
        "        if index1 < 0 or index2 < 0:\n",
        "            print(\"Indices cannot be negative.\")\n",
        "            return\n",
        "\n",
        "        if index1 > index2:\n",
        "            index1, index2 = index2, index1\n",
        "\n",
        "        current = link.head\n",
        "        count = 0\n",
        "        prev = None\n",
        "\n",
        "        while current:\n",
        "            if count == index1:\n",
        "                new_node = Node(new_data)\n",
        "                if prev:\n",
        "                    prev.next = new_node\n",
        "                else:\n",
        "                    link.head = new_node\n",
        "                new_node.next = current\n",
        "                return\n",
        "            prev = current\n",
        "            current = current.next\n",
        "            count += 1\n",
        "\n",
        "        print(\"Index out of range.\")\n",
        "\n",
        "\n",
        "insertDash(num_list,3, 4, \"-\")\n",
        "num_list.traverse(num_list.head)"
      ]
    },
    {
      "cell_type": "markdown",
      "metadata": {
        "id": "KkC-LgdxFehT"
      },
      "source": [
        "## Stack"
      ]
    },
    {
      "cell_type": "code",
      "execution_count": 10,
      "metadata": {
        "id": "UYTqB1u_FehU"
      },
      "outputs": [],
      "source": [
        "# Creating a stack\n",
        "def create_stack():\n",
        "    stack = []\n",
        "    return stack\n",
        "\n",
        "\n",
        "def print_stack(stack):\n",
        "\n",
        "    if (check_empty(stack)):\n",
        "        return \"stack is empty\"\n",
        "\n",
        "    # Create a copy of the stack and reverse the elements\n",
        "    tempStack = stack.copy()\n",
        "    tempStack.reverse()\n",
        "\n",
        "    # Print all elements using a loop\n",
        "    for i in tempStack:\n",
        "        print(i)\n",
        "\n",
        "    # Delete the copy to free up memory\n",
        "    del tempStack\n",
        "\n",
        "# Creating an empty stack\n",
        "\n",
        "\n",
        "def check_empty(stack):\n",
        "    return len(stack) == 0\n",
        "\n",
        "\n",
        "# Adding items into the stack\n",
        "def push(stack, item):\n",
        "    stack.append(item)\n",
        "    print(\"pushed item: \" + item)\n",
        "\n",
        "\n",
        "# Removing an element from the stack\n",
        "def pop(stack):\n",
        "    if (check_empty(stack)):\n",
        "        return \"stack is empty\"\n",
        "\n",
        "    return stack.pop()\n",
        "\n",
        "\n",
        "def peek(stack):\n",
        "\n",
        "    # Use negative indexing to display the last element of the list\n",
        "    print(stack[-1])"
      ]
    },
    {
      "cell_type": "markdown",
      "metadata": {
        "id": "wLAQchs8FehU"
      },
      "source": [
        "**Instructions** ❗️❗️\n",
        "\n",
        "Use the pre-defined stack class/functions to create a stack"
      ]
    },
    {
      "cell_type": "markdown",
      "metadata": {
        "id": "37cg9BoCFehU"
      },
      "source": [
        "1. Create two (2) stacks named **name_stack** and **num_stack** `(5 points)`\n",
        "\n",
        "- **name_stack** should contain all letters of your first name.\n",
        "- **num_stack** should contain all digits of your student number.\n",
        "\n",
        "    **Expected Output:**\n",
        "\n",
        "    print(name_stack)\n",
        "\n",
        "    ['E', 'L', 'I', 'Z', 'E', 'R']\n",
        "\n",
        "    print(num_stack)\n",
        "\n",
        "    [2,0,2,2,1,2,3,4,5,6]"
      ]
    },
    {
      "cell_type": "code",
      "execution_count": 11,
      "metadata": {
        "id": "HlUIUQzQFehU",
        "colab": {
          "base_uri": "https://localhost:8080/"
        },
        "outputId": "d14cfbfb-c034-468a-b7b5-bec8d6ee1b87"
      },
      "outputs": [
        {
          "output_type": "stream",
          "name": "stdout",
          "text": [
            "pushed item: J\n",
            "pushed item: A\n",
            "pushed item: I\n",
            "pushed item: R\n",
            "pushed item: A\n",
            "pushed item: 2\n",
            "pushed item: 0\n",
            "pushed item: 2\n",
            "pushed item: 2\n",
            "pushed item: 1\n",
            "pushed item: 0\n",
            "pushed item: 7\n",
            "pushed item: 1\n",
            "pushed item: 2\n",
            "pushed item: 1\n",
            "['J', 'A', 'I', 'R', 'A']\n",
            "['2', '0', '2', '2', '1', '0', '7', '1', '2', '1']\n"
          ]
        }
      ],
      "source": [
        "name_stack = create_stack()\n",
        "num_stack = create_stack()\n",
        "\n",
        "first = \"JAIRA\"\n",
        "for letter in first:\n",
        "  push(name_stack, letter)\n",
        "\n",
        "\n",
        "student_number = \"2022107121\"\n",
        "for num in student_number:\n",
        "  push(num_stack, num)\n",
        "\n",
        "print(name_stack)\n",
        "print(num_stack)"
      ]
    },
    {
      "cell_type": "markdown",
      "metadata": {
        "id": "8cySe9LXFehU"
      },
      "source": [
        "2. Create a stack named **my_stack** that follows the following format: `(5 points)`\n",
        "\n",
        "- The first element should be the **5th digit in your student number**\n",
        "- The succeeding elements should be the letters of your **first name**\n",
        "- The last element should be the **last digit of your student number**\n",
        "\n",
        "    **Expected Output:**\n",
        "\n",
        "    my_stack = [1, E, L, I, Z, E, R, 6]"
      ]
    },
    {
      "cell_type": "code",
      "execution_count": 12,
      "metadata": {
        "id": "bEnCoAhjFehU",
        "colab": {
          "base_uri": "https://localhost:8080/"
        },
        "outputId": "36da8473-79e7-4941-ac64-da64d5c0a4e2"
      },
      "outputs": [
        {
          "output_type": "stream",
          "name": "stdout",
          "text": [
            "['1', 'J', 'A', 'I', 'R', 'A', '1']\n"
          ]
        }
      ],
      "source": [
        "my_stack = []\n",
        "\n",
        "my_stack.append(num_stack[4])\n",
        "\n",
        "for letter in name_stack:\n",
        "    my_stack.append(letter)\n",
        "\n",
        "my_stack.append(num_stack[-1])\n",
        "\n",
        "print(my_stack)"
      ]
    },
    {
      "cell_type": "markdown",
      "metadata": {
        "id": "8a8_KP5nFehU"
      },
      "source": [
        "3. Write a `verifyStack()` function that will take in `my_stack` and check if its format has been followed `(10 points)`\n",
        "\n",
        "- Return **True** if the format has been followed\n",
        "- Return **False** if the format was not followed\n",
        "- Verify the format by checking the contents of **my_stack** with **name_stack** and **num_stack**\n",
        "\n",
        "    **Expected Output:**\n",
        "\n",
        "    my_stack = [1, E, L, I, Z, E, R, 6]\n",
        "\n",
        "    verifyStack(my_stack)\n",
        "\n",
        "    True\n",
        "\n",
        "    my_stack = [1, S, L, I, Z, E, R, 7]\n",
        "\n",
        "    verifyStack(my_stack)\n",
        "\n",
        "    False"
      ]
    },
    {
      "cell_type": "code",
      "execution_count": 41,
      "metadata": {
        "id": "RdANSxD0FehU",
        "colab": {
          "base_uri": "https://localhost:8080/"
        },
        "outputId": "4b218e28-2bc1-415b-8f1b-6fc48301ea23"
      },
      "outputs": [
        {
          "output_type": "stream",
          "name": "stdout",
          "text": [
            "pushed item: 1\n",
            "pushed item: J\n",
            "pushed item: A\n",
            "pushed item: I\n",
            "pushed item: R\n",
            "pushed item: A\n",
            "pushed item: 1\n",
            "['1', 'J', 'A', 'I', 'R', 'A', '1']\n",
            "True\n",
            "[2, 'J', 'F', 'I', 'R', 'D', 1]\n",
            "False\n"
          ]
        }
      ],
      "source": [
        "my_stack = create_stack()\n",
        "\n",
        "num_stack = ['2', '0', '2', '2', '1', '0', '7', '1', '2', '1']\n",
        "name_stack = ['J', 'A', 'I', 'R', 'A']\n",
        "\n",
        "stud = \"2022107121\"\n",
        "push(my_stack, stud[4])\n",
        "\n",
        "first = \"JAIRA\"\n",
        "for letter in first:\n",
        "    push(my_stack, letter)\n",
        "push(my_stack, stud[-1])\n",
        "\n",
        "\n",
        "def verifyStack(my_stack):\n",
        "    if my_stack[0] != num_stack[4]:\n",
        "        my_stack[-1] != str(my_stack[-1])\n",
        "        if my_stack[1:-1] != name_stack:\n",
        "            if my_stack[-1] != num_stack[-1]:\n",
        "                return False\n",
        "    return True\n",
        "\n",
        "print(my_stack)\n",
        "print(verifyStack(my_stack))\n",
        "\n",
        "my_stack = [2, 'J', 'F', 'I', 'R', 'D', 1]\n",
        "\n",
        "print(my_stack)\n",
        "print(verifyStack(my_stack))"
      ]
    },
    {
      "cell_type": "markdown",
      "metadata": {
        "id": "UC5C64B2FehU"
      },
      "source": [
        "## Queue"
      ]
    },
    {
      "cell_type": "code",
      "execution_count": 15,
      "metadata": {
        "id": "NJJ0j0LHFehU"
      },
      "outputs": [],
      "source": [
        "class Queue:\n",
        "    def __init__(self):\n",
        "        self.queue = []\n",
        "\n",
        "    # Add an element\n",
        "    def enqueue(self, item):\n",
        "        self.queue.append(item)\n",
        "\n",
        "    # Remove an element\n",
        "    def dequeue(self):\n",
        "        if len(self.queue) < 1:\n",
        "            return None\n",
        "        return self.queue.pop(0)\n",
        "\n",
        "    # Display  the queue\n",
        "    def display(self):\n",
        "        print(self.queue)\n",
        "\n",
        "    def size(self):\n",
        "        return len(self.queue)\n",
        "\n",
        "    def peek(self):\n",
        "        return self.queue[0]"
      ]
    },
    {
      "cell_type": "markdown",
      "metadata": {
        "id": "80OekpbeFehV"
      },
      "source": [
        "**Instructions** ❗️❗️\n",
        "\n",
        "Use the pre-defined queue class/functions to create a Queue"
      ]
    },
    {
      "cell_type": "markdown",
      "metadata": {
        "id": "_Hf0OP5cFehV"
      },
      "source": [
        "1. Create a simple queue named **num_queue** `(5 points)`\n",
        "\n",
        "- **num_queue** should contain all digits of your student number.\n",
        "\n",
        "    **Expected Output:**\n",
        "\n",
        "    print(num_queue)\n",
        "\n",
        "    [2,0,2,2,1,2,3,4,5,6]"
      ]
    },
    {
      "cell_type": "code",
      "execution_count": 17,
      "metadata": {
        "id": "_mgmE4ArFehV",
        "colab": {
          "base_uri": "https://localhost:8080/"
        },
        "outputId": "627b8a63-2f22-44f0-9d99-7a81cc19971b"
      },
      "outputs": [
        {
          "output_type": "stream",
          "name": "stdout",
          "text": [
            "[2, 0, 2, 2, 1, 0, 7, 1, 2, 1]\n"
          ]
        }
      ],
      "source": [
        "num_list = Queue()\n",
        "stud_num = [2, 0, 2,2, 1, 0, 7, 1, 2, 1]\n",
        "\n",
        "for i in range(len(stud_num)):\n",
        "  num_list.enqueue(stud_num[i])\n",
        "\n",
        "num_list.display()"
      ]
    },
    {
      "cell_type": "markdown",
      "metadata": {
        "id": "1pHG8t6DFehV"
      },
      "source": [
        "2. Write a `getMax()` or `getMin()` function for **num_queue** `(5 points)`\n",
        "\n",
        "- If your student number ends with an odd number, create a `getMax()` function that will return the largest number in **num_queue**\n",
        "- If your student number ends with an even number, create a `getMin()` function that will return the lowest number in **num_queue**\n",
        "\n",
        "    **Expected Output for getMax():**\n",
        "\n",
        "    getMax(num_queue)\n",
        "\n",
        "    6\n",
        "\n",
        "    **Expected Output for getMin():**\n",
        "\n",
        "    getMin(num_queue)\n",
        "\n",
        "    0"
      ]
    },
    {
      "cell_type": "code",
      "execution_count": 25,
      "metadata": {
        "id": "itj2U610FehV",
        "colab": {
          "base_uri": "https://localhost:8080/"
        },
        "outputId": "caff8d0e-af64-4275-adc8-0edbe7e1ce43"
      },
      "outputs": [
        {
          "output_type": "stream",
          "name": "stdout",
          "text": [
            "Max:  7\n"
          ]
        }
      ],
      "source": [
        "def getMax(num_queue):\n",
        "    if num_queue.size() == 0:\n",
        "        return None\n",
        "\n",
        "    max = num_queue.peek()\n",
        "\n",
        "    for _ in range(num_queue.size()):\n",
        "        current = num_queue.dequeue()\n",
        "        if current > max:\n",
        "            max = current\n",
        "        num_queue.enqueue(current)\n",
        "\n",
        "    return max\n",
        "num_queue = Queue()\n",
        "numbers = [2, 0, 2, 2, 1, 0, 7, 1, 2, 1]\n",
        "for num in numbers:\n",
        "    num_queue.enqueue(num)\n",
        "\n",
        "result = getMax(num_queue)\n",
        "print(\"Max: \", result)\n"
      ]
    },
    {
      "cell_type": "markdown",
      "metadata": {
        "id": "YkgmP6GwFehV"
      },
      "source": [
        "3. Write a `getOdd()` or `getEven()` function for  **num_queue** `(5 points)`\n",
        "\n",
        "- If your student number ends with an **odd number**, create a `getOdd()` function that will return all odd numbers in **num_queue**\n",
        "- If your student number ends with an **even number**, create a `getEven()` function that will return all even numbers in **num_queue**\n",
        "\n",
        "    **Expected Output for getOdd():**\n",
        "\n",
        "    getOdd(num_queue)\n",
        "\n",
        "    [1, 3, 5]\n",
        "\n",
        "    **Expected Output for getEven():**\n",
        "\n",
        "    getEven(num_queue)\n",
        "\n",
        "    [0, 2, 4, 6]"
      ]
    },
    {
      "cell_type": "code",
      "execution_count": 31,
      "metadata": {
        "id": "2Bc7E1zNFehV",
        "colab": {
          "base_uri": "https://localhost:8080/"
        },
        "outputId": "61d6c11b-e245-415d-8ac7-6fe71f5bec41"
      },
      "outputs": [
        {
          "output_type": "execute_result",
          "data": {
            "text/plain": [
              "[1, 7, 1, 1]"
            ]
          },
          "metadata": {},
          "execution_count": 31
        }
      ],
      "source": [
        "def getOdd(num_queue):\n",
        "    odd_numbers = []\n",
        "    while num_queue.size():\n",
        "        num = num_queue.dequeue()\n",
        "        if num % 2 != 0:\n",
        "            odd_numbers.append(num)\n",
        "    return odd_numbers\n",
        "\n",
        "\n",
        "student_number = [2, 0, 2, 2, 1, 0, 7, 1, 2, 1]\n",
        "num_queue = Queue()\n",
        "\n",
        "\n",
        "for digit in student_number:\n",
        "    num_queue.enqueue(digit)\n",
        "\n",
        "\n",
        "getOdd(num_queue)"
      ]
    },
    {
      "cell_type": "markdown",
      "metadata": {
        "id": "kuzWF5g4FehV"
      },
      "source": [
        "4. Write a `removeDup()` function that will remove all duplicates in **num_queue** `(5 points)`\n",
        "\n",
        "    **Expected Output:**\n",
        "\n",
        "    removeDup(num_queue)\n",
        "\n",
        "    [2,0,1,3,4,5,6]"
      ]
    },
    {
      "cell_type": "code",
      "execution_count": 32,
      "metadata": {
        "id": "I8LeQP8MFehY",
        "colab": {
          "base_uri": "https://localhost:8080/"
        },
        "outputId": "0b378dc4-ca7f-4512-fc8f-c22288f7b89d"
      },
      "outputs": [
        {
          "output_type": "stream",
          "name": "stdout",
          "text": [
            "[2, 0, 1, 7]\n"
          ]
        }
      ],
      "source": [
        "def removeDup(stud_id):\n",
        "    unik = []\n",
        "\n",
        "    for num in stud_id:\n",
        "            if num not in unik:\n",
        "                unik.append(num)\n",
        "\n",
        "    stud_id.clear()\n",
        "    stud_id.extend(unik)\n",
        "\n",
        "stud_id = [2, 0, 2, 2, 1, 0, 7, 1, 2, 1]\n",
        "\n",
        "removeDup(stud_id)\n",
        "\n",
        "print(stud_id)"
      ]
    },
    {
      "cell_type": "markdown",
      "metadata": {
        "id": "LVfZTh8YFehZ"
      },
      "source": [
        "## Sort"
      ]
    },
    {
      "cell_type": "markdown",
      "metadata": {
        "id": "bm9lonfzFehZ"
      },
      "source": [
        "**Instructions** ❗️❗️\n",
        "\n",
        "Use the any sorting algoritms"
      ]
    },
    {
      "cell_type": "markdown",
      "metadata": {
        "id": "EJTlxhEdFehZ"
      },
      "source": [
        "1. Using any sorting algorithm, sort the **last 6 digits** of your student number in ascending order `(5 points)`\n",
        "\n",
        "    **Example:**\n",
        "\n",
        "    student_number = [2,0,2,2,6,2,5,1,3,4]\n",
        "\n",
        "    **Expected Output:**\n",
        "\n",
        "    print(student_number)\n",
        "\n",
        "    [2,0,2,2,1,2,3,4,5,6]\n"
      ]
    },
    {
      "cell_type": "code",
      "execution_count": 33,
      "metadata": {
        "id": "MkZKfveOFehZ",
        "colab": {
          "base_uri": "https://localhost:8080/"
        },
        "outputId": "80dd291a-be90-4cf8-bcc1-d22ebf3bc45c"
      },
      "outputs": [
        {
          "output_type": "stream",
          "name": "stdout",
          "text": [
            "[2, 0, 2, 2, 0, 1, 1, 1, 2, 7]\n"
          ]
        }
      ],
      "source": [
        "stud_id = [2, 0, 2, 2, 1, 0, 7, 1, 2, 1]\n",
        "\n",
        "sorted_id = sorted(stud_id[-6:])\n",
        "\n",
        "stud_id[-6:]= sorted_id\n",
        "\n",
        "print(stud_id)"
      ]
    },
    {
      "cell_type": "markdown",
      "metadata": {
        "id": "sC2JZRZMFehZ"
      },
      "source": [
        "2. Using your student_number, separately sort the even numbers in **increasing order** and the odd numbers in **decreasing order** `(15 points)`\n",
        "\n",
        "    **Example:**\n",
        "\n",
        "    student_number = [2,0,2,2,1,2,3,4,5,6]\n",
        "\n",
        "    **Expected Output:**\n",
        "\n",
        "    print(student_number)\n",
        "\n",
        "    [0,2,2,2,2,4,6,5,3,1]"
      ]
    },
    {
      "cell_type": "code",
      "execution_count": 34,
      "metadata": {
        "id": "hWOh_ohcFehZ",
        "colab": {
          "base_uri": "https://localhost:8080/"
        },
        "outputId": "ff5035ba-a273-42e3-e79f-872b66147337"
      },
      "outputs": [
        {
          "output_type": "stream",
          "name": "stdout",
          "text": [
            "[0, 0, 2, 2, 2, 2, 7, 1, 1, 1]\n"
          ]
        }
      ],
      "source": [
        "stud_id = [2, 0, 2, 2, 1, 0, 7, 1, 2, 1]\n",
        "\n",
        "\n",
        "even = [i for i in stud_id if i % 2 == 0]\n",
        "odd = [i for i in stud_id if i % 2 != 0]\n",
        "\n",
        "\n",
        "even.sort()\n",
        "odd.sort(reverse = True)\n",
        "\n",
        "sorted_stud_id = even + odd\n",
        "\n",
        "\n",
        "print(sorted_stud_id)"
      ]
    }
  ],
  "metadata": {
    "kernelspec": {
      "display_name": "Python 3",
      "language": "python",
      "name": "python3"
    },
    "language_info": {
      "codemirror_mode": {
        "name": "ipython",
        "version": 3
      },
      "file_extension": ".py",
      "mimetype": "text/x-python",
      "name": "python",
      "nbconvert_exporter": "python",
      "pygments_lexer": "ipython3",
      "version": "3.9.13"
    },
    "orig_nbformat": 4,
    "colab": {
      "provenance": [],
      "include_colab_link": true
    }
  },
  "nbformat": 4,
  "nbformat_minor": 0
}